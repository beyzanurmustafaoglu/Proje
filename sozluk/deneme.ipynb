{
 "cells": [
  {
   "cell_type": "code",
   "execution_count": 9,
   "metadata": {},
   "outputs": [],
   "source": [
    "def kelime_defterine_ekle(dosya_adi):\n",
    "    kelime = input(\"Anlamını bilmediğiniz kelimeyi giriniz: \")\n",
    "    anlam=input(\"Bilmediğiniz kelimenin anlamını giriniz: \")\n",
    "    with open(dosya_adi, \"a\") as dosya:\n",
    "        dosya.write(kelime+\":\"+anlam+\"\\n\")\n",
    "\n",
    "kelime_defterine_ekle(\"defter.txt\")\n"
   ]
  },
  {
   "cell_type": "code",
   "execution_count": 10,
   "metadata": {},
   "outputs": [
    {
     "name": "stdout",
     "output_type": "stream",
     "text": [
      "das hause: das hause\n",
      "das hause: das hause\n",
      "hause: hause\n",
      "das auto: das auto\n"
     ]
    }
   ],
   "source": [
    "def kelime_defterini_goster(dosya_adi):\n",
    "    with open(dosya_adi, \"r\") as dosya:\n",
    "        for satir in dosya:\n",
    "            kelime_anlami = satir.strip().split(\":\")\n",
    "            kelime = kelime_anlami[0]\n",
    "            anlam = kelime_anlami[0]\n",
    "            print(f\"{kelime}: {anlam}\")\n",
    "kelime_defterini_goster(\"defter.txt\")\n"
   ]
  }
 ],
 "metadata": {
  "kernelspec": {
   "display_name": "Python 3",
   "language": "python",
   "name": "python3"
  },
  "language_info": {
   "codemirror_mode": {
    "name": "ipython",
    "version": 3
   },
   "file_extension": ".py",
   "mimetype": "text/x-python",
   "name": "python",
   "nbconvert_exporter": "python",
   "pygments_lexer": "ipython3",
   "version": "3.11.1"
  },
  "orig_nbformat": 4
 },
 "nbformat": 4,
 "nbformat_minor": 2
}
