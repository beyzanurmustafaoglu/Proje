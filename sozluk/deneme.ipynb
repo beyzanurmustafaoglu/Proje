{
 "cells": [
  {
   "cell_type": "code",
   "execution_count": 16,
   "metadata": {},
   "outputs": [],
   "source": [
    "def kelime_defterine_ekle(dosya_adi):\n",
    "    kelime = input(\"Anlamını bilmediğiniz kelimeyi giriniz: \")\n",
    "    anlam=input(\"Bilmediğiniz kelimenin anlamını giriniz: \")\n",
    "    with open(dosya_adi, \"a\") as dosya:\n",
    "        dosya.write(kelime+\":\"+anlam+\"\\n\")\n",
    "\n",
    "kelime_defterine_ekle(\"defter.txt\")\n"
   ]
  },
  {
   "cell_type": "code",
   "execution_count": 25,
   "metadata": {},
   "outputs": [
    {
     "name": "stdout",
     "output_type": "stream",
     "text": [
      "das hause: Anlamı bulunamadı\n",
      "das hause: ev\n",
      "hause: ev\n",
      "das auto: araba\n",
      "hause: ev\n"
     ]
    }
   ],
   "source": [
    "def kelime_defterini_goster(dosya_adi):\n",
    "    with open(dosya_adi, \"r\") as dosya:\n",
    "        for satir in dosya:\n",
    "            kelime_anlami = satir.strip().split(\":\")\n",
    "            kelime = kelime_anlami[0]\n",
    "            if len(kelime_anlami) > 1:\n",
    "                anlam = kelime_anlami[1]\n",
    "            else:\n",
    "                anlam = \"Anlamı bulunamadı\"\n",
    "            print(f\"{kelime}: {anlam}\")\n",
    "kelime_defterini_goster(\"defter.txt\")\n"
   ]
  },
  {
   "cell_type": "code",
   "execution_count": null,
   "metadata": {},
   "outputs": [],
   "source": [
    "def kelime_defterini_goster(dosya_adi):\n",
    "        with open(dosya_adi, \"r\") as dosya:\n",
    "            for satir in dosya:\n",
    "                kelime_anlami = satir.strip().split(\":\")\n",
    "                kelime = kelime_anlami[0]\n",
    "                anlam = kelime_anlami[0]\n",
    "                print(f\"{kelime}: {anlam}\")\n",
    "    #kelime_defterini_goster(\"defter.txt\")"
   ]
  },
  {
   "cell_type": "code",
   "execution_count": 24,
   "metadata": {},
   "outputs": [
    {
     "name": "stdout",
     "output_type": "stream",
     "text": [
      "das hause: Anlamı bulunamadı\n",
      "das hause: ev\n",
      "hause: ev\n",
      "das auto: araba\n",
      "hause: ev\n"
     ]
    }
   ],
   "source": [
    "def defteri_goster(dosya_adi):\n",
    "    with open(dosya_adi, \"r\") as dosya:\n",
    "        for satir in dosya:\n",
    "            kelime_anlam = satir.strip().split(\":\")\n",
    "            kelime = kelime_anlam[0]\n",
    "            if len(kelime_anlam) > 1:\n",
    "                anlam = kelime_anlam[1]\n",
    "            else:\n",
    "                anlam = \"Anlamı bulunamadı\"\n",
    "            print(f\"{kelime}: {anlam}\")\n",
    "defteri_goster(\"defter.txt\")\n"
   ]
  }
 ],
 "metadata": {
  "kernelspec": {
   "display_name": "Python 3",
   "language": "python",
   "name": "python3"
  },
  "language_info": {
   "codemirror_mode": {
    "name": "ipython",
    "version": 3
   },
   "file_extension": ".py",
   "mimetype": "text/x-python",
   "name": "python",
   "nbconvert_exporter": "python",
   "pygments_lexer": "ipython3",
   "version": "3.11.1"
  },
  "orig_nbformat": 4
 },
 "nbformat": 4,
 "nbformat_minor": 2
}
