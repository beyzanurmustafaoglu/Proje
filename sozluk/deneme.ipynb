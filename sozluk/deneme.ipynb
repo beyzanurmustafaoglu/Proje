{
 "cells": [
  {
   "cell_type": "code",
   "execution_count": 3,
   "metadata": {},
   "outputs": [],
   "source": [
    "def kelime_defterine_ekle():\n",
    "    kelime = input(\"Anlamını bilmediğiniz kelimeyi giriniz: \")\n",
    "    anlam=input(\"Bilmediğiniz kelimenin anlamını giriniz: \")\n",
    "    with open(\"defter.txt\", \"a\") as dosya:\n",
    "        dosya.write(kelime+\":\"+anlam+\"\\n\")\n",
    "\n",
    "kelime_defterine_ekle()\n"
   ]
  },
  {
   "cell_type": "code",
   "execution_count": 2,
   "metadata": {},
   "outputs": [
    {
     "name": "stdout",
     "output_type": "stream",
     "text": [
      "das hause: Anlamı bulunamadı\n",
      "das hause: ev\n",
      "hause: ev\n",
      "das auto: araba\n",
      "hause: ev\n",
      "hause: ev\n"
     ]
    }
   ],
   "source": [
    "def kelime_defterini_goster():\n",
    "    with open(\"defter.txt\", \"r\") as dosya:\n",
    "        for satir in dosya:\n",
    "            kelime_anlami = satir.strip().split(\":\")\n",
    "            kelime = kelime_anlami[0]\n",
    "            if len(kelime_anlami) > 1:\n",
    "                anlam = kelime_anlami[1]\n",
    "            else:\n",
    "                anlam = \"Anlamı bulunamadı\"\n",
    "            print(f\"{kelime}: {anlam}\")\n",
    "kelime_defterini_goster()\n"
   ]
  },
  {
   "cell_type": "code",
   "execution_count": null,
   "metadata": {},
   "outputs": [],
   "source": [
    "def kelime_defterini_goster(dosya_adi):\n",
    "        with open(dosya_adi, \"r\") as dosya:\n",
    "            for satir in dosya:\n",
    "                kelime_anlami = satir.strip().split(\":\")\n",
    "                kelime = kelime_anlami[0]\n",
    "                anlam = kelime_anlami[0]\n",
    "                print(f\"{kelime}: {anlam}\")\n",
    "    #kelime_defterini_goster(\"defter.txt\")"
   ]
  },
  {
   "cell_type": "code",
   "execution_count": 24,
   "metadata": {},
   "outputs": [
    {
     "name": "stdout",
     "output_type": "stream",
     "text": [
      "das hause: Anlamı bulunamadı\n",
      "das hause: ev\n",
      "hause: ev\n",
      "das auto: araba\n",
      "hause: ev\n"
     ]
    }
   ],
   "source": [
    "def defteri_goster(dosya_adi):\n",
    "    with open(dosya_adi, \"r\") as dosya:\n",
    "        for satir in dosya:\n",
    "            kelime_anlam = satir.strip().split(\":\")\n",
    "            kelime = kelime_anlam[0]\n",
    "            if len(kelime_anlam) > 1:\n",
    "                anlam = kelime_anlam[1]\n",
    "            else:\n",
    "                anlam = \"Anlamı bulunamadı\"\n",
    "            print(f\"{kelime}: {anlam}\")\n",
    "defteri_goster(\"defter.txt\"\n"
   ]
  },
  {
   "cell_type": "code",
   "execution_count": null,
   "metadata": {},
   "outputs": [],
   "source": [
    "class Sozluk:\n",
    "    def __init__(self):\n",
    "        with open('proje.txt', 'r') as dosya:\n",
    "            satirlar = dosya.readlines()\n",
    "        self.sozluk = {}\n",
    "        for satir in satirlar:\n",
    "            kelime, tanim = satir.strip().split(\":\")\n",
    "            self.sozluk[kelime]=tanim\n",
    "        self.kelime_defteri = []\n",
    "    \n",
    "    def cumleEkle(self):\n",
    "        kelime = input(\"Hakkinda cumle eklemek istediginiz kelimeyi giriniz:\")\n",
    "        kelime=kelime.capitalize()\n",
    "        if kelime not in self.sozluk:\n",
    "            print(\"Aradiginiz kelime bulunamadi!\\n Eger kelimeyi sozluge eklemek istiyorsaniz kelime ekle kismina gidebilirsiniz.\")\n",
    "        else:\n",
    "            with open('proje.txt','r') as dosya:\n",
    "                satirlar=dosya.readlines()\n",
    "            with open('proje.txt','w') as dosya:\n",
    "                for satir in satirlar:\n",
    "                    if kelime in satir:\n",
    "                        cumle=input(\"Eklemek istediginiz cumleyi giriniz:\")\n",
    "                        dosya.write(satir.strip() + f\",ornek cumle = {cumle}\\n\")\n",
    "                        print(f\"'{cumle}' cümlesi,{kelime} kelimesine eklendi.\")   \n",
    "                    else:\n",
    "                        dosya.write(satir)\n",
    "                    \n",
    "    def yorumEkle(self):\n",
    "        kelime = input(\"Hakkinda yorum eklemek istediginiz kelimeyi giriniz:\")\n",
    "        kelime=kelime.capitalize()\n",
    "        if kelime not in self.sozluk:\n",
    "            print(\"Aradiginiz kelime bulunamadi!\\n Eger kelimeyi sozluge eklemek istiyorsaniz kelime ekle kismina gidebilirsiniz.\")\n",
    "        else:\n",
    "            with open('proje.txt','r') as dosya:\n",
    "                satirlar=dosya.readlines()\n",
    "            with open('proje.txt','w') as dosya:\n",
    "                for satir in satirlar:\n",
    "                    if kelime in satir:\n",
    "                        yorum=input(\"Eklemek istediginiz yorumu giriniz:\")\n",
    "                        dosya.write(satir.strip() + f\",yorum = {yorum}\\n\")\n",
    "                        print(f\"'{yorum}' yorumu,{kelime} kelimesine eklendi.\")   \n",
    "                    else:\n",
    "                        dosya.write(satir)        \n",
    "    \n",
    "    def kelime_bilgi_goster(self):\n",
    "        kelime=input(\"lutfen aratmak istediginiz kelimeyi giriniz:\")\n",
    "        kelime=kelime.capitalize()\n",
    "        if kelime in self.sozluk:\n",
    "            print(f\"{kelime} kelimesi için bilgiler:{self.sozluk[kelime]}\")  \n",
    "\n",
    "    def tanim_degistir(self):\n",
    "        kelime=input(\"Lutfen tanimini degistirmek istediginiz kelimeyi giriniz:\")\n",
    "        kelime=kelime.capitalize()\n",
    "        tanim=input(\"Lutfen yeni tanimi giriniz:\")\n",
    "        if kelime in self.sozluk:\n",
    "             self.sozluk[kelime] = tanim\n",
    "             print(\"Kelimenin tanimi güncellendi.\")\n",
    "        else:\n",
    "             print(\"Aradiginiz kelime bulunamadi.Bu kelimeyi sozluge ekleyip yeni tanim olusturabilirsiniz.\")\n",
    "             self.sozluk[kelime] = tanim\n",
    "             print(\"Kelime sözlüğe eklendi.\")\n",
    "        with open('proje.txt','w') as dosya:\n",
    "            for key1 in self.sozluk.keys():\n",
    "                dosya.write(f\"{key1} : {self.sozluk[key1]}\\n\")\n",
    "\n",
    "    def es_anlamli_kelime_ekle(self):\n",
    "        kelime = input(\"Lütfen eş anlamlısını öğrenmek istediğiniz kelimeyi giriniz.\")\n",
    "        if kelime in self.sozluk:\n",
    "            self.sozluk[kelime].append(es_anlam)\n",
    "            print(\"Eş anlamlı sözcük sözlüğe eklendi.\")\n",
    "        else:\n",
    "            self.sozluk[kelime] = es_anlam\n",
    "            \n",
    "    def kelimeyi_deftere_ekle(self):\n",
    "        kelime=input(\"Anlamını bilmediğiniz kelimeyi giriniz: \")\n",
    "        anlam=input(\"Bilmediğiniz kelimenin anlamını giriniz: \")\n",
    "        with open(\"defter.txt\",\"a\") as dosya:\n",
    "            dosya.write(kelime+\":\"+anlam+\"\\n\")\n",
    "        \n",
    "\n",
    "\n",
    "    def kelime_defterini_goster(self):\n",
    "        with open(\"defter.txt\",\"r\") as dosya:\n",
    "            satirlar=dosya.readlines()\n",
    "            for satir in satirlar:\n",
    "                kelime,anlam=satir.strip().split(\":\")\n",
    "                print(kelime,\":\",anlam)\n",
    "        \n",
    "            \n",
    "def main():\n",
    "    sozluk=Sozluk()\n",
    "    #sozluk.kelime_bilgi_goster()\n",
    "    #sozluk.cumleEkle()\n",
    "    #sozluk.yorumEkle()\n",
    "    #sozluk.tanim_degistir()\n",
    "    #sozluk.es_anlamli_kelime_ekle()\n",
    "    #sozluk.kelime_defterini_goster()\n",
    "    sozluk.kelimeyi_deftere_ekle()\n",
    "    \n",
    "main()"
   ]
  }
 ],
 "metadata": {
  "kernelspec": {
   "display_name": "Python 3",
   "language": "python",
   "name": "python3"
  },
  "language_info": {
   "codemirror_mode": {
    "name": "ipython",
    "version": 3
   },
   "file_extension": ".py",
   "mimetype": "text/x-python",
   "name": "python",
   "nbconvert_exporter": "python",
   "pygments_lexer": "ipython3",
   "version": "3.11.1"
  },
  "orig_nbformat": 4
 },
 "nbformat": 4,
 "nbformat_minor": 2
}
