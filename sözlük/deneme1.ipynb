{
 "cells": [
  {
   "cell_type": "code",
   "execution_count": 18,
   "metadata": {},
   "outputs": [
    {
     "name": "stdout",
     "output_type": "stream",
     "text": [
      "A    : (belirteç) bir\n",
      "THIS : (zamir) bu\n",
      "IS   : (fiil) olmak\n",
      "BOOK : (isim)  kitap   (fiil)  rezerve etmek   \n",
      "\n",
      "Kullanıcı çıkışı.\n"
     ]
    }
   ],
   "source": [
    "# almanca kelimeleri algılamıyor. deneme amaçlı ingilizce kelime kullandım\n",
    "dictionary={\n",
    "    \"Hallo\":\"Merhaba\",\n",
    "    \"Auf Wiedersehen\":\"Güle güle, Hoşça kalın\",\n",
    "    \"Guten Morgen\":\"Günaydın\",\n",
    "    \"morgen\":[(\"isim\",\"sabah\")],\n",
    "    \"Guten Abend\":\"İyi akşamlar\",\n",
    "    \"Gute Nacht\":\"İyi geceler\",\n",
    "    \"Heute\":[(\"isim\",\"Bugün\")],\n",
    "    \"Gestern\":[(\"isim\",\"Dün\")],\n",
    "    \"this\":[(\"zamir\",\"bu\")],\n",
    "    \"is\":[(\"fiil\",\"olmak\")],\n",
    "    \"a\":[(\"belirteç\",\"bir\")],\n",
    "    \"book\":[(\"isim\",\"kitap\"), (\"fiil\",\"rezerve etmek\")],\n",
    "    \"pencil\":[(\"isim\",\"kalem\")],\n",
    "    \"car\":[(\"isim\",\"araba\")]\n",
    "}\n",
    "while True:\n",
    "    sentence=input(\"Bir cümle giriniz: (Çıkmak için ENTER'a basınız) \")\n",
    "    \n",
    "    if sentence==\"\":\n",
    "        break\n",
    "\n",
    "    for signCharacter in \".!?,=:-)(\":\n",
    "        sentence=sentence.replace(signCharacter, \" \")\n",
    "\n",
    "    words=set(sentence.lower().split()) # cümledeki kelimeleri ayırmak için, lower ise büyük küçük harf farklılığından oluşacak sorunları önlemek için, set ise yanlışlıkla birden fazla girilen kelimeleri silmek için\n",
    "    \n",
    "    # sıralı bir görüntü için\n",
    "    wordsMaxLength=1\n",
    "    for word in words:\n",
    "        if wordsMaxLength<len(word):\n",
    "            wordsMaxLength=len(word)\n",
    "    \n",
    "    \n",
    "    \n",
    "    for word in words:\n",
    "        wordDefinitions=dictionary.get(word, \"[ANLAMI BULUNAMADI]\")\n",
    "        if len(wordDefinitions)==1:\n",
    "            print(f\"{word.upper():<{wordsMaxLength}} : ({wordDefinitions[0][0]}) {wordDefinitions[0][1]}\")\n",
    "        elif len(wordDefinitions)>1:\n",
    "            print(f\"{word.upper():<{wordsMaxLength}} : \",end=\"\")\n",
    "            for wordDefinition in wordDefinitions:\n",
    "                print(f\"({wordDefinition[0]})  {wordDefinition[1]}   \",end=\"\")\n",
    "\n",
    "            print()\n",
    "    print()\n",
    "print(\"Kullanıcı çıkışı.\")"
   ]
  },
  {
   "cell_type": "code",
   "execution_count": null,
   "metadata": {},
   "outputs": [],
   "source": []
  }
 ],
 "metadata": {
  "kernelspec": {
   "display_name": "Python 3",
   "language": "python",
   "name": "python3"
  },
  "language_info": {
   "codemirror_mode": {
    "name": "ipython",
    "version": 3
   },
   "file_extension": ".py",
   "mimetype": "text/x-python",
   "name": "python",
   "nbconvert_exporter": "python",
   "pygments_lexer": "ipython3",
   "version": "3.11.1"
  },
  "orig_nbformat": 4
 },
 "nbformat": 4,
 "nbformat_minor": 2
}
