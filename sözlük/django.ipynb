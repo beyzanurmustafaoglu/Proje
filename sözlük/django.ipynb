{
 "cells": [
  {
   "cell_type": "code",
   "execution_count": 8,
   "metadata": {},
   "outputs": [
    {
     "name": "stdout",
     "output_type": "stream",
     "text": [
      "Requirement already satisfied: django in c:\\users\\beyzanur\\appdata\\local\\programs\\python\\python311\\lib\\site-packages (4.2.1)\n",
      "Requirement already satisfied: asgiref<4,>=3.6.0 in c:\\users\\beyzanur\\appdata\\local\\programs\\python\\python311\\lib\\site-packages (from django) (3.6.0)\n",
      "Requirement already satisfied: sqlparse>=0.3.1 in c:\\users\\beyzanur\\appdata\\local\\programs\\python\\python311\\lib\\site-packages (from django) (0.4.4)\n",
      "Requirement already satisfied: tzdata in c:\\users\\beyzanur\\appdata\\local\\programs\\python\\python311\\lib\\site-packages (from django) (2023.3)\n",
      "Note: you may need to restart the kernel to use updated packages.\n"
     ]
    },
    {
     "name": "stderr",
     "output_type": "stream",
     "text": [
      "\n",
      "[notice] A new release of pip available: 22.3.1 -> 23.1.2\n",
      "[notice] To update, run: python.exe -m pip install --upgrade pip\n"
     ]
    }
   ],
   "source": [
    "pip install django\n"
   ]
  },
  {
   "cell_type": "code",
   "execution_count": 9,
   "metadata": {},
   "outputs": [
    {
     "name": "stdout",
     "output_type": "stream",
     "text": [
      "Package           Version\n",
      "----------------- -------\n",
      "asgiref           3.6.0\n",
      "asttokens         2.2.1\n",
      "backcall          0.2.0\n",
      "colorama          0.4.6\n",
      "comm              0.1.2\n",
      "contourpy         1.0.7\n",
      "cycler            0.11.0\n",
      "debugpy           1.6.6\n",
      "decorator         5.1.1\n",
      "Django            4.2.1\n",
      "executing         1.2.0\n",
      "fonttools         4.39.3\n",
      "ipykernel         6.20.2\n",
      "ipython           8.9.0\n",
      "jedi              0.18.2\n",
      "jupyter_client    8.0.1\n",
      "jupyter_core      5.1.5\n",
      "kiwisolver        1.4.4\n",
      "matplotlib        3.7.1\n",
      "matplotlib-inline 0.1.6\n",
      "nest-asyncio      1.5.6\n",
      "numpy             1.24.2\n",
      "packaging         23.0\n",
      "pandas            2.0.1\n",
      "parso             0.8.3\n",
      "pickleshare       0.7.5\n",
      "Pillow            9.5.0\n",
      "pip               22.3.1\n",
      "platformdirs      2.6.2\n",
      "prompt-toolkit    3.0.36\n",
      "psutil            5.9.4\n",
      "pure-eval         0.2.2\n",
      "Pygments          2.14.0\n",
      "pyparsing         3.0.9\n",
      "python-dateutil   2.8.2\n",
      "pytz              2023.3\n",
      "pywin32           305\n",
      "pyzmq             25.0.0\n",
      "seaborn           0.12.2\n",
      "setuptools        65.5.0\n",
      "six               1.16.0\n",
      "sqlparse          0.4.4\n",
      "stack-data        0.6.2\n",
      "tornado           6.2\n",
      "traitlets         5.8.1\n",
      "tzdata            2023.3\n",
      "wcwidth           0.2.6\n",
      "Note: you may need to restart the kernel to use updated packages.\n"
     ]
    },
    {
     "name": "stderr",
     "output_type": "stream",
     "text": [
      "\n",
      "[notice] A new release of pip available: 22.3.1 -> 23.1.2\n",
      "[notice] To update, run: python.exe -m pip install --upgrade pip\n"
     ]
    }
   ],
   "source": [
    "pip list"
   ]
  },
  {
   "cell_type": "code",
   "execution_count": null,
   "metadata": {},
   "outputs": [],
   "source": []
  }
 ],
 "metadata": {
  "kernelspec": {
   "display_name": "Python 3",
   "language": "python",
   "name": "python3"
  },
  "language_info": {
   "codemirror_mode": {
    "name": "ipython",
    "version": 3
   },
   "file_extension": ".py",
   "mimetype": "text/x-python",
   "name": "python",
   "nbconvert_exporter": "python",
   "pygments_lexer": "ipython3",
   "version": "3.11.1"
  },
  "orig_nbformat": 4
 },
 "nbformat": 4,
 "nbformat_minor": 2
}
