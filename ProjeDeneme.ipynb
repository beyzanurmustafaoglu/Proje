{
 "cells": [
  {
   "attachments": {},
   "cell_type": "markdown",
   "metadata": {},
   "source": [
    "- sözlükten çıkış\n",
    "- kelime ekleme\n",
    "- kelime tanımını değiştirme\n",
    "- eş zıt anlamlı kelime ekleme\n",
    "- kelimelerin içinde geçtiği cümle örnekleri ekleme\n",
    "- yorum ekleme\n",
    "- kullanıcının bilmediği kelimeleri saklayabileceği ve sonrasında çalışabileceği bir kelime defteri oluşturma\n",
    "#### Projenizde Mutlaka Bulunması Gereken Yapılar\n",
    "- En az bir tane class yapısı olmalı.\n",
    "- En az bir tane karar kontrol yapısı kullanmalısınız.\n",
    "- En az bir tane döngü kullanmalısınız.\n",
    "- En az bir tane girdi almalısınız.\n",
    "- En az bir tane hata kontrolü yapmalısınız.\n",
    "- En az bir tane değişken tanımlamalısınız.\n",
    "- En az bir fonksiyon yazmalısınız"
   ]
  },
  {
   "cell_type": "code",
   "execution_count": null,
   "metadata": {},
   "outputs": [],
   "source": [
    "class Sozluk:\n",
    "    def __init__(self):\n",
    "        with open('proje.txt', 'r') as dosya:\n",
    "            satirlar = dosya.readlines()\n",
    "        self.sozluk = {}\n",
    "        for satir in satirlar:\n",
    "            kelime, tanim = satir.strip().split(\":\")\n",
    "            self.sozluk[kelime]=tanim\n",
    "        self.kelime_defteri = []\n",
    "    \n",
    "    def cumleEkle(self):\n",
    "        kelime = input(\"Hakkinda cumle eklemek istediginiz kelimeyi giriniz:\")\n",
    "        kelime=kelime.capitalize()\n",
    "        if kelime not in self.sozluk:\n",
    "            print(\"Aradiginiz kelime bulunamadi!\\n Eger kelimeyi sozluge eklemek istiyorsaniz kelime ekle kismina gidebilirsiniz.\")\n",
    "        else:\n",
    "            with open('proje.txt','r') as dosya:\n",
    "                satirlar=dosya.readlines()\n",
    "            with open('proje.txt','w') as dosya:\n",
    "                for satir in satirlar:\n",
    "                    if kelime in satir:\n",
    "                        cumle=input(\"Eklemek istediginiz cumleyi giriniz:\")\n",
    "                        dosya.write(satir.strip() + f\",ornek cumle = {cumle}\\n\")\n",
    "                        print(f\"'{cumle}' cümlesi,{kelime} kelimesine eklendi.\")   \n",
    "                    else:\n",
    "                        dosya.write(satir)\n",
    "                    \n",
    "    def yorumEkle(self):\n",
    "        kelime = input(\"Hakkinda yorum eklemek istediginiz kelimeyi giriniz:\")\n",
    "        kelime=kelime.capitalize()\n",
    "        if kelime not in self.sozluk:\n",
    "            print(\"Aradiginiz kelime bulunamadi!\\n Eger kelimeyi sozluge eklemek istiyorsaniz kelime ekle kismina gidebilirsiniz.\")\n",
    "        else:\n",
    "            with open('proje.txt','r') as dosya:\n",
    "                satirlar=dosya.readlines()\n",
    "            with open('proje.txt','w') as dosya:\n",
    "                for satir in satirlar:\n",
    "                    if kelime in satir:\n",
    "                        yorum=input(\"Eklemek istediginiz yorumu giriniz:\")\n",
    "                        dosya.write(satir.strip() + f\",yorum = {yorum}\\n\")\n",
    "                        print(f\"'{yorum}' yorumu,{kelime} kelimesine eklendi.\")   \n",
    "                    else:\n",
    "                        dosya.write(satir)        \n",
    "    \n",
    "    def kelime_bilgi_goster(self):\n",
    "        kelime=input(\"lutfen aratmak istediginiz kelimeyi giriniz:\")\n",
    "        kelime=kelime.capitalize()\n",
    "        if kelime in self.sozluk:\n",
    "            print(f\"{kelime} kelimesi için bilgiler:{self.sozluk[kelime]}\")  \n",
    "def main():\n",
    "    sozluk=Sozluk()\n",
    "    #sozluk.kelime_bilgi_goster()\n",
    "    #sozluk.cumleEkle()\n",
    "    #sozluk.yorumEkle()\n",
    "    \n",
    "main()\n"
   ]
  },
  {
   "cell_type": "code",
   "execution_count": null,
   "metadata": {},
   "outputs": [],
   "source": [
    "def yorumEkle(self):\n",
    "        kelime = input(\"Hakkinda yorum eklemek istediginiz kelimeyi giriniz:\")\n",
    "        kelime=kelime.capitalize()\n",
    "        if kelime not in self.sozluk:\n",
    "            print(\"Aradiginiz kelime bulunamadi!\\n Eger kelimeyi sozluge eklemek istiyorsaniz kelime ekle kismina gidebilirsiniz.\")\n",
    "        else:\n",
    "            with open('proje.txt','r') as dosya:\n",
    "                satirlar=dosya.readlines()\n",
    "            with open('proje.txt','w') as dosya:\n",
    "                for satir in satirlar:\n",
    "                    if kelime in satir:\n",
    "                        yorum=input(\"Eklemek istediginiz yorumu giriniz:\")\n",
    "                        dosya.write(satir.strip() + f\",yorum = {yorum}\\n\")\n",
    "                        print(f\"'{yorum}' yorumu,{kelime} kelimesine eklendi.\")   \n",
    "                    else:\n",
    "                        dosya.write(satir)        \n",
    "    "
   ]
  },
  {
   "cell_type": "code",
   "execution_count": 16,
   "metadata": {},
   "outputs": [
    {
     "ename": "NameError",
     "evalue": "name 'self' is not defined",
     "output_type": "error",
     "traceback": [
      "\u001b[1;31m---------------------------------------------------------------------------\u001b[0m",
      "\u001b[1;31mNameError\u001b[0m                                 Traceback (most recent call last)",
      "Cell \u001b[1;32mIn[16], line 11\u001b[0m\n\u001b[0;32m      8\u001b[0m     \u001b[39melse\u001b[39;00m:\n\u001b[0;32m      9\u001b[0m         \u001b[39mprint\u001b[39m(\u001b[39m\"\u001b[39m\u001b[39mGirdiğiniz kelime defterde bulunmaktadır.\u001b[39m\u001b[39m\"\u001b[39m)\n\u001b[1;32m---> 11\u001b[0m kelime_defterine_ekle(\u001b[39mself\u001b[39;49m,kelime_defteri)\n",
      "\u001b[1;31mNameError\u001b[0m: name 'self' is not defined"
     ]
    }
   ],
   "source": [
    "def kelime_defterine_ekle(self,kelime_defteri):\n",
    "    self.kelime_defteri=kelime_defteri\n",
    "    kelime=input(\"Deftere eklemek için anlamını bilmediğiniz kelimeyi giriniz: \")\n",
    "    kelime=kelime.capitalize()\n",
    "    if kelime not in self.kelime_defteri:\n",
    "\n",
    "        print(\"Girdiğiniz kelime kelime defterine eklendi.\")\n",
    "    else:\n",
    "        print(\"Girdiğiniz kelime defterde bulunmaktadır.\")\n",
    "\n",
    "kelime_defterine_ekle(self,kelime_defteri)\n",
    "   "
   ]
  },
  {
   "cell_type": "code",
   "execution_count": null,
   "metadata": {},
   "outputs": [],
   "source": [
    "class Sozluk():\n",
    "    file=open(\"defter.txt\",\"a\",encoding=\"utf-8\")\n",
    "    kelime=input(\"Anlamını bilmediğiniz kelimeyi giriniz: \")\n",
    "    file.write(kelime)\n",
    "    file.close\n",
    "\n",
    "   \n",
    "\n",
    "\n",
    "\n",
    "\n",
    "    print(\"\"\"Aramadan çıkmak için ENTER'a basınız\n",
    "\n",
    "    \"\"\")\n",
    "     \n",
    "while True:\n",
    "    # SÖZLÜKTE KELİME ARAMADAN ÇIKIŞ\n",
    "    kelime=input(\"Aramak istediğiniz kelimeyi giriniz: \")     \n",
    "    if kelime==\"ENTER\":\n",
    "        break\n",
    "\n",
    "\n",
    "\n",
    "\n",
    "  "
   ]
  },
  {
   "cell_type": "code",
   "execution_count": 19,
   "metadata": {},
   "outputs": [],
   "source": [
    "# CÜMLE ÖRNEKLERİ EKLEME\n",
    "def cumle_ekle(self):\n",
    "    file=open(\"cumleler.txt\",\"w\")\n",
    "    cumle=input(\"Cümle giriniz: \")\n",
    "    cumle_anlam=input(\"Girdiğiniz cümlenin anlamını giriniz\")\n",
    "    file.write(cumle + \"=\")\n",
    "    file.write(cumle_anlam + \"\\n\")\n",
    "    file.close()"
   ]
  },
  {
   "cell_type": "code",
   "execution_count": 12,
   "metadata": {},
   "outputs": [],
   "source": [
    "# YORUM ALANI\n",
    "file=open(\"yorum.txt\",\"w\",encoding=\"utf-8\")\n",
    "yorum=input(\"Yorumunuzu giriniz: \")\n",
    "file.write(yorum)\n",
    "file.close()"
   ]
  },
  {
   "cell_type": "code",
   "execution_count": 10,
   "metadata": {},
   "outputs": [],
   "source": [
    "# ANLAMI BİLİNMEYEN KELİMEYİ DEFTERE EKLEME\n",
    "\n",
    "file=open(\"defter.txt\",\"w\")\n",
    "kelime=input(\"Anlamını bilmediğiniz kelimeyi giriniz: \")\n",
    "file.write(kelime)\n",
    "file.close()"
   ]
  },
  {
   "cell_type": "code",
   "execution_count": 9,
   "metadata": {},
   "outputs": [
    {
     "ename": "UnsupportedOperation",
     "evalue": "not readable",
     "output_type": "error",
     "traceback": [
      "\u001b[1;31m---------------------------------------------------------------------------\u001b[0m",
      "\u001b[1;31mUnsupportedOperation\u001b[0m                      Traceback (most recent call last)",
      "Cell \u001b[1;32mIn[9], line 17\u001b[0m\n\u001b[0;32m     14\u001b[0m         \u001b[39mprint\u001b[39m(\u001b[39mf\u001b[39m\u001b[39m\"\u001b[39m\u001b[39m{\u001b[39;00mkelime\u001b[39m}\u001b[39;00m\u001b[39m kelimesi zaten kelime defterinizde bulunuyor.\u001b[39m\u001b[39m\"\u001b[39m)\n\u001b[0;32m     15\u001b[0m         kelime_defteri\u001b[39m.\u001b[39mclose()\n\u001b[1;32m---> 17\u001b[0m kelime_defteri_ekle(kelime)\n",
      "Cell \u001b[1;32mIn[9], line 9\u001b[0m, in \u001b[0;36mkelime_defteri_ekle\u001b[1;34m(self)\u001b[0m\n\u001b[0;32m      6\u001b[0m kelime_defteri\u001b[39m=\u001b[39m\u001b[39mopen\u001b[39m(\u001b[39m\"\u001b[39m\u001b[39mdefter2.txt\u001b[39m\u001b[39m\"\u001b[39m,\u001b[39m\"\u001b[39m\u001b[39mw\u001b[39m\u001b[39m\"\u001b[39m)\n\u001b[0;32m      7\u001b[0m \u001b[39m#print(\"Kelime defteri açıldı.\")\u001b[39;00m\n\u001b[0;32m      8\u001b[0m \u001b[39m#kelime=input(\"Anlamını bilmediğiniz kelimeyi giriniz: \")\u001b[39;00m\n\u001b[1;32m----> 9\u001b[0m \u001b[39mif\u001b[39;00m kelime \u001b[39mnot\u001b[39;49;00m \u001b[39min\u001b[39;49;00m kelime_defteri:\n\u001b[0;32m     10\u001b[0m     kelime_defteri\u001b[39m.\u001b[39mwrite(kelime)\n\u001b[0;32m     11\u001b[0m     \u001b[39mprint\u001b[39m(\u001b[39mf\u001b[39m\u001b[39m\"\u001b[39m\u001b[39m{\u001b[39;00mkelime\u001b[39m}\u001b[39;00m\u001b[39m kelimesi defterine eklendi.\u001b[39m\u001b[39m\"\u001b[39m)\n",
      "\u001b[1;31mUnsupportedOperation\u001b[0m: not readable"
     ]
    }
   ],
   "source": [
    "# KELİME DEFTERİ AÇMA\n",
    "kelime=input(\"Anlamını bilmediğiniz kelimeyi giriniz: \")\n",
    "def kelime_defteri_ekle(self):\n",
    "    kelime=input(\"Anlamını bilmediğiniz kelimeyi giriniz: \")\n",
    "  \n",
    "    kelime_defteri=open(\"defter2.txt\",\"w\")\n",
    "    #print(\"Kelime defteri açıldı.\")\n",
    "    #kelime=input(\"Anlamını bilmediğiniz kelimeyi giriniz: \")\n",
    "    if kelime not in kelime_defteri:\n",
    "        kelime_defteri.write(kelime)\n",
    "        print(f\"{kelime} kelimesi defterine eklendi.\")\n",
    "        kelime_defteri.close()\n",
    "    else:\n",
    "        print(f\"{kelime} kelimesi zaten kelime defterinizde bulunuyor.\")\n",
    "        kelime_defteri.close()\n",
    "\n",
    "kelime_defteri_ekle(kelime)\n"
   ]
  },
  {
   "cell_type": "code",
   "execution_count": 12,
   "metadata": {},
   "outputs": [
    {
     "name": "stdout",
     "output_type": "stream",
     "text": [
      "Maalesef bu kelimenin anlamı sözlükte bulunmamaktadır.\n"
     ]
    }
   ],
   "source": [
    "word = input(\"Aradığınız kelimeyi girin: \")\n",
    "if word not in \"proje.txt\":\n",
    "    print(\"Maalesef bu kelimenin anlamı sözlükte bulunmamaktadır.\")\n",
    "elif word in \"proje.txt\":\n",
    "    print(\"\")\n",
    "with open(\"unknown_words.txt\", \"a\") as file:\n",
    "    file.write(word + \"\\n\")\n"
   ]
  },
  {
   "cell_type": "code",
   "execution_count": 14,
   "metadata": {},
   "outputs": [
    {
     "ename": "FileNotFoundError",
     "evalue": "[Errno 2] No such file or directory: 'proje.txt'",
     "output_type": "error",
     "traceback": [
      "\u001b[1;31m---------------------------------------------------------------------------\u001b[0m",
      "\u001b[1;31mFileNotFoundError\u001b[0m                         Traceback (most recent call last)",
      "Cell \u001b[1;32mIn[14], line 1\u001b[0m\n\u001b[1;32m----> 1\u001b[0m \u001b[39mwith\u001b[39;00m \u001b[39mopen\u001b[39;49m(\u001b[39m'\u001b[39;49m\u001b[39mproje.txt\u001b[39;49m\u001b[39m'\u001b[39;49m, \u001b[39m'\u001b[39;49m\u001b[39mr\u001b[39;49m\u001b[39m'\u001b[39;49m) \u001b[39mas\u001b[39;00m file:\n\u001b[0;32m      2\u001b[0m     kelimeler \u001b[39m=\u001b[39m file\u001b[39m.\u001b[39mreadlines()\n\u001b[0;32m      3\u001b[0m unknown_words \u001b[39m=\u001b[39m []\n",
      "File \u001b[1;32m~\\AppData\\Roaming\\Python\\Python311\\site-packages\\IPython\\core\\interactiveshell.py:282\u001b[0m, in \u001b[0;36m_modified_open\u001b[1;34m(file, *args, **kwargs)\u001b[0m\n\u001b[0;32m    275\u001b[0m \u001b[39mif\u001b[39;00m file \u001b[39min\u001b[39;00m {\u001b[39m0\u001b[39m, \u001b[39m1\u001b[39m, \u001b[39m2\u001b[39m}:\n\u001b[0;32m    276\u001b[0m     \u001b[39mraise\u001b[39;00m \u001b[39mValueError\u001b[39;00m(\n\u001b[0;32m    277\u001b[0m         \u001b[39mf\u001b[39m\u001b[39m\"\u001b[39m\u001b[39mIPython won\u001b[39m\u001b[39m'\u001b[39m\u001b[39mt let you open fd=\u001b[39m\u001b[39m{\u001b[39;00mfile\u001b[39m}\u001b[39;00m\u001b[39m by default \u001b[39m\u001b[39m\"\u001b[39m\n\u001b[0;32m    278\u001b[0m         \u001b[39m\"\u001b[39m\u001b[39mas it is likely to crash IPython. If you know what you are doing, \u001b[39m\u001b[39m\"\u001b[39m\n\u001b[0;32m    279\u001b[0m         \u001b[39m\"\u001b[39m\u001b[39myou can use builtins\u001b[39m\u001b[39m'\u001b[39m\u001b[39m open.\u001b[39m\u001b[39m\"\u001b[39m\n\u001b[0;32m    280\u001b[0m     )\n\u001b[1;32m--> 282\u001b[0m \u001b[39mreturn\u001b[39;00m io_open(file, \u001b[39m*\u001b[39;49margs, \u001b[39m*\u001b[39;49m\u001b[39m*\u001b[39;49mkwargs)\n",
      "\u001b[1;31mFileNotFoundError\u001b[0m: [Errno 2] No such file or directory: 'proje.txt'"
     ]
    }
   ],
   "source": [
    "with open('proje.txt', 'r') as file:\n",
    "    kelimeler = file.readlines()\n",
    "unknown_words = []\n",
    "for kelime in kelimeler:\n",
    "    kelime = kelime.strip()\n",
    "    if not kelime in \"bilinen_kelimeler.txt\":\n",
    "        unknown_words.append(kelime)\n",
    "        with open('bilinmeyen_kelimeler.txt', 'a') as file:\n",
    "            file.write(kelime + '\\n')\n",
    "with open('bilinmeyen_kelimeler.txt', 'r') as file:\n",
    "    print(file.read())\n"
   ]
  },
  {
   "cell_type": "code",
   "execution_count": null,
   "metadata": {},
   "outputs": [],
   "source": [
    "class Sozluk:\n",
    "    def __init__(self):\n",
    "        self.sozluk = {}\n",
    "        self.kelime_defteri = []\n",
    "    \n",
    "    def kelime_ekle(self, kelime, tanim):\n",
    "        self.sozluk[kelime] = {\"tanim\": tanim, \"es_anlam\": [], \"cümleler\": [], \"yorumlar\": []}\n",
    "    \n",
    "    def tanim_degistir(self, kelime, yeni_tanim):\n",
    "        if kelime in self.sozluk:\n",
    "            self.sozluk[kelime][\"tanim\"] = yeni_tanim\n",
    "            print(f\"{kelime} kelimesinin tanımı başarıyla değiştirildi.\")\n",
    "        else:\n",
    "            print(f\"{kelime} kelimesi sözlükte bulunamadı.\")\n",
    "    \n",
    "    def es_anlam_ekle(self, kelime, es_anlam):\n",
    "        if kelime in self.sozluk:\n",
    "            self.sozluk[kelime][\"es_anlam\"].append(es_anlam)\n",
    "            print(f\"{kelime} kelimesine başarıyla eş anlamlı kelime eklendi.\")\n",
    "        else:\n",
    "            print(f\"{kelime} kelimesi sözlükte bulunamadı.\")\n",
    "    \n",
    "    def cumle_ekle(self, kelime, cumle):\n",
    "        if kelime in self.sozluk:\n",
    "            self.sozluk[kelime][\"cümleler\"].append(cumle)\n",
    "            print(f\"{kelime} kelimesi için örnek cümle başarıyla eklendi.\")\n",
    "        else:\n",
    "            print(f\"{kelime} kelimesi sözlükte bulunamadı.\")\n",
    "    \n",
    "    def yorum_ekle(self, kelime, yorum):\n",
    "        if kelime in self.sozluk:\n",
    "            self.sozluk[kelime][\"yorumlar\"].append(yorum)\n",
    "            print(f\"{kelime} kelimesi için yorum başarıyla eklendi.\")\n",
    "        else:\n",
    "            print(f\"{kelime} kelimesi sözlükte bulunamadı.\")\n",
    "    \n",
    "    def kelime_defteri_ekle(self, kelime):\n",
    "        if kelime not in self.kelime_defteri:\n",
    "            self.kelime_defteri.append(kelime)\n",
    "            print(f\"{kelime} kelimesi başarıyla kelime defterinize eklendi.\")\n",
    "        else:\n",
    "            print(f\"{kelime} kelimesi zaten kelime defterinizde bulunuyor.\")\n",
    "    \n",
    "    def kelime_defteri_goster(self):\n",
    "        if self.kelime_defteri:\n",
    "            print(\"Kelime defterinizdeki kelimeler: \")\n",
    "            for kelime in self.kelime_defteri:\n",
    "                print(kelime)\n",
    "        else:\n",
    "            print(\"Kelime defteriniz şu anda boş.\")\n",
    "    \n",
    "    def sozlukten_cikar(self, kelime):\n",
    "        if kelime in self.sozluk:\n",
    "            del self.sozluk[kelime]\n",
    "            print(f\"{kelime} kelimesi başarıyla sözlükten çıkarıldı.\")\n",
    "        else:\n",
    "            print(f\"{kelime} kelimesi sözlükte bulunamadı.\")\n",
    "    \n",
    "    def kelime_bilgi_goster(self, kelime):\n",
    "        if kelime in self.sozluk:\n",
    "            print(f\"{kelime} kelimesi için bilgiler:\")"
   ]
  }
 ],
 "metadata": {
  "kernelspec": {
   "display_name": "Python 3",
   "language": "python",
   "name": "python3"
  },
  "language_info": {
   "codemirror_mode": {
    "name": "ipython",
    "version": 3
   },
   "file_extension": ".py",
   "mimetype": "text/x-python",
   "name": "python",
   "nbconvert_exporter": "python",
   "pygments_lexer": "ipython3",
   "version": "3.11.1"
  },
  "orig_nbformat": 4
 },
 "nbformat": 4,
 "nbformat_minor": 2
}
